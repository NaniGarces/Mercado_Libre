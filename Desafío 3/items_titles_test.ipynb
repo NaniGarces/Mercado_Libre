{
 "cells": [
  {
   "cell_type": "markdown",
   "id": "7e63c883-3503-4d31-96bd-05eeefaa31b6",
   "metadata": {},
   "source": [
    "# ***Desafío 3***"
   ]
  },
  {
   "cell_type": "markdown",
   "id": "182272a5-34d3-470a-a8bc-62e1fd60e78d",
   "metadata": {},
   "source": [
    "El objetivo del desafío es poder generar una Jupyter notebook que determine cuán similares son dos títulos del dataset “item_titles_test.csv” generando como output un listado que contenga el score de similitud"
   ]
  },
  {
   "cell_type": "code",
   "execution_count": 1,
   "id": "51eed2ad-d5e2-4ace-8662-644d819c83ee",
   "metadata": {},
   "outputs": [],
   "source": [
    "import pandas as pd\n",
    "import numpy as np\n",
    "import time\n",
    "from difflib import SequenceMatcher"
   ]
  },
  {
   "cell_type": "markdown",
   "id": "1421ef28-ca95-48d0-a41c-b256eb8b331d",
   "metadata": {},
   "source": [
    "Leo el archivo con los datos"
   ]
  },
  {
   "cell_type": "code",
   "execution_count": 2,
   "id": "21e89c37-a707-4bd4-a914-505e149c7bbe",
   "metadata": {},
   "outputs": [
    {
     "data": {
      "text/plain": [
       "(10000, 1)"
      ]
     },
     "execution_count": 2,
     "metadata": {},
     "output_type": "execute_result"
    }
   ],
   "source": [
    "data = pd.read_csv('items_titles_test.csv')\n",
    "data.shape"
   ]
  },
  {
   "cell_type": "markdown",
   "id": "8a73325d-c8a3-4c46-85de-d82c3cb5dc9c",
   "metadata": {},
   "source": [
    "Observo la estructura de los datos"
   ]
  },
  {
   "cell_type": "code",
   "execution_count": 3,
   "id": "9e00ac3e-e8bf-4334-be30-ce9a054eaf53",
   "metadata": {},
   "outputs": [
    {
     "data": {
      "text/html": [
       "<div>\n",
       "<style scoped>\n",
       "    .dataframe tbody tr th:only-of-type {\n",
       "        vertical-align: middle;\n",
       "    }\n",
       "\n",
       "    .dataframe tbody tr th {\n",
       "        vertical-align: top;\n",
       "    }\n",
       "\n",
       "    .dataframe thead th {\n",
       "        text-align: right;\n",
       "    }\n",
       "</style>\n",
       "<table border=\"1\" class=\"dataframe\">\n",
       "  <thead>\n",
       "    <tr style=\"text-align: right;\">\n",
       "      <th></th>\n",
       "      <th>ITE_ITEM_TITLE</th>\n",
       "    </tr>\n",
       "  </thead>\n",
       "  <tbody>\n",
       "    <tr>\n",
       "      <th>0</th>\n",
       "      <td>Tênis Olympikus Esporte Valente - Masculino Kids</td>\n",
       "    </tr>\n",
       "    <tr>\n",
       "      <th>1</th>\n",
       "      <td>Bicicleta Barra Forte Samy C/ 6 Marchas Cubo C...</td>\n",
       "    </tr>\n",
       "    <tr>\n",
       "      <th>2</th>\n",
       "      <td>Tênis Usthemp Slip-on Temático - Labrador 2</td>\n",
       "    </tr>\n",
       "    <tr>\n",
       "      <th>3</th>\n",
       "      <td>Tênis Casual Feminino Moleca Tecido Tie Dye</td>\n",
       "    </tr>\n",
       "    <tr>\n",
       "      <th>4</th>\n",
       "      <td>Tênis Star Baby Sapatinho Conforto + Brinde</td>\n",
       "    </tr>\n",
       "    <tr>\n",
       "      <th>5</th>\n",
       "      <td>Tênis Oakley Frequency 3.0 Preto/marrom</td>\n",
       "    </tr>\n",
       "    <tr>\n",
       "      <th>6</th>\n",
       "      <td>Tênis Jogging Feminino Premium Super Lançament...</td>\n",
       "    </tr>\n",
       "    <tr>\n",
       "      <th>7</th>\n",
       "      <td>Under Armour Hovr Phantom 2 Conexão Bluetooth ...</td>\n",
       "    </tr>\n",
       "    <tr>\n",
       "      <th>8</th>\n",
       "      <td>Tenis Infantil Feminino Menina Criança Moça</td>\n",
       "    </tr>\n",
       "    <tr>\n",
       "      <th>9</th>\n",
       "      <td>Tênis Labellamafia Saturn 6 Cores Disponíveis</td>\n",
       "    </tr>\n",
       "  </tbody>\n",
       "</table>\n",
       "</div>"
      ],
      "text/plain": [
       "                                      ITE_ITEM_TITLE\n",
       "0   Tênis Olympikus Esporte Valente - Masculino Kids\n",
       "1  Bicicleta Barra Forte Samy C/ 6 Marchas Cubo C...\n",
       "2       Tênis Usthemp Slip-on Temático - Labrador 2\n",
       "3        Tênis Casual Feminino Moleca Tecido Tie Dye\n",
       "4        Tênis Star Baby Sapatinho Conforto + Brinde\n",
       "5            Tênis Oakley Frequency 3.0 Preto/marrom\n",
       "6  Tênis Jogging Feminino Premium Super Lançament...\n",
       "7  Under Armour Hovr Phantom 2 Conexão Bluetooth ...\n",
       "8        Tenis Infantil Feminino Menina Criança Moça\n",
       "9      Tênis Labellamafia Saturn 6 Cores Disponíveis"
      ]
     },
     "execution_count": 3,
     "metadata": {},
     "output_type": "execute_result"
    }
   ],
   "source": [
    "data.head(10)"
   ]
  },
  {
   "cell_type": "markdown",
   "id": "90711a87-34c5-4dfc-ac75-c72d99e099c6",
   "metadata": {},
   "source": [
    "Nota: ratio( ) returns the similarity score ( float in [0,1] ) between input strings. It sums the sizes of all matched sequences returned by function get_matching_blocks and calculates the ratio as: ratio = 2.0*M / T , where M = matches , T = total number of elements in both sequences"
   ]
  },
  {
   "cell_type": "code",
   "execution_count": 7,
   "id": "dac148f4-6d6e-4a7b-8b0f-81e102c45119",
   "metadata": {},
   "outputs": [],
   "source": [
    "def similares(data):\n",
    "    start = time.time()\n",
    "    nueva_fila = {} \n",
    "    data_nueva = pd.DataFrame(columns=[\"ITE_ITEM_TITLE_1\", \"ITE_ITEM_TITLE_2\", 'Score Similitud (0,1)'])\n",
    "    for i in range(1,10):\n",
    "        mask = (data[\"ITE_ITEM_TITLE\"] != data[\"ITE_ITEM_TITLE\"][i])\n",
    "        data_mask = data[mask].reset_index(drop=True)\n",
    "        for j in range(len(data_mask.index)):\n",
    "            s = SequenceMatcher(None, data.loc[i , \"ITE_ITEM_TITLE\"], data_mask.loc[j , \"ITE_ITEM_TITLE\"])\n",
    "            nueva_fila = { \"ITE_ITEM_TITLE_1\": data.loc[i , \"ITE_ITEM_TITLE\"], \"ITE_ITEM_TITLE_2\": data_mask.loc[j , \"ITE_ITEM_TITLE\"], 'Score Similitud (0,1)': s.ratio()} \n",
    "            data_nueva = data_nueva.append(nueva_fila, ignore_index=True)\n",
    "            \n",
    "    data_nueva = data_nueva.sort_values('Score Similitud (0,1)', ascending = False).reset_index(drop=True)\n",
    "    \n",
    "    end = time.time()\n",
    "    T = end - start\n",
    "    print(\"The minutes used to execute this program is: \", round(T/60))\n",
    "    \n",
    "    return data_nueva"
   ]
  },
  {
   "cell_type": "code",
   "execution_count": 8,
   "id": "d6d562e7-1ae6-4b23-b405-a8a385f19667",
   "metadata": {},
   "outputs": [
    {
     "name": "stdout",
     "output_type": "stream",
     "text": [
      "The minutes used to execute this program is:  9\n"
     ]
    },
    {
     "data": {
      "text/html": [
       "<div>\n",
       "<style scoped>\n",
       "    .dataframe tbody tr th:only-of-type {\n",
       "        vertical-align: middle;\n",
       "    }\n",
       "\n",
       "    .dataframe tbody tr th {\n",
       "        vertical-align: top;\n",
       "    }\n",
       "\n",
       "    .dataframe thead th {\n",
       "        text-align: right;\n",
       "    }\n",
       "</style>\n",
       "<table border=\"1\" class=\"dataframe\">\n",
       "  <thead>\n",
       "    <tr style=\"text-align: right;\">\n",
       "      <th></th>\n",
       "      <th>ITE_ITEM_TITLE_1</th>\n",
       "      <th>ITE_ITEM_TITLE_2</th>\n",
       "      <th>Score Similitud (0,1)</th>\n",
       "    </tr>\n",
       "  </thead>\n",
       "  <tbody>\n",
       "    <tr>\n",
       "      <th>0</th>\n",
       "      <td>Tênis Usthemp Slip-on Temático - Labrador 2</td>\n",
       "      <td>Tênis Usthemp Slip-on Temático - Leão</td>\n",
       "      <td>0.878049</td>\n",
       "    </tr>\n",
       "    <tr>\n",
       "      <th>1</th>\n",
       "      <td>Tênis Usthemp Slip-on Temático - Labrador 2</td>\n",
       "      <td>Tênis Usthemp Volare Temático - Labrador 2</td>\n",
       "      <td>0.873563</td>\n",
       "    </tr>\n",
       "    <tr>\n",
       "      <th>2</th>\n",
       "      <td>Tênis Usthemp Slip-on Temático - Labrador 2</td>\n",
       "      <td>Tênis Usthemp Slip-on Temático - Dark Unicorn 2</td>\n",
       "      <td>0.869565</td>\n",
       "    </tr>\n",
       "    <tr>\n",
       "      <th>3</th>\n",
       "      <td>Tênis Usthemp Slip-on Temático - Labrador 2</td>\n",
       "      <td>Tênis Usthemp Slip-on Temático - Raposa</td>\n",
       "      <td>0.857143</td>\n",
       "    </tr>\n",
       "    <tr>\n",
       "      <th>4</th>\n",
       "      <td>Tênis Usthemp Slip-on Temático - Labrador 2</td>\n",
       "      <td>Tênis Usthemp Slip-on Temático - Baby Dogs 4</td>\n",
       "      <td>0.853933</td>\n",
       "    </tr>\n",
       "    <tr>\n",
       "      <th>5</th>\n",
       "      <td>Tenis Infantil Feminino Menina Criança Moça</td>\n",
       "      <td>Tenis Infantil Feminino Meninas Love Coração</td>\n",
       "      <td>0.827586</td>\n",
       "    </tr>\n",
       "    <tr>\n",
       "      <th>6</th>\n",
       "      <td>Tênis Usthemp Slip-on Temático - Labrador 2</td>\n",
       "      <td>Tênis Usthemp Slip-on Temático - Calopsitas</td>\n",
       "      <td>0.818182</td>\n",
       "    </tr>\n",
       "    <tr>\n",
       "      <th>7</th>\n",
       "      <td>Tênis Usthemp Slip-on Temático - Labrador 2</td>\n",
       "      <td>Tênis Usthemp Half Temático - Lunna Labrador 3</td>\n",
       "      <td>0.813187</td>\n",
       "    </tr>\n",
       "    <tr>\n",
       "      <th>8</th>\n",
       "      <td>Tênis Usthemp Slip-on Temático - Labrador 2</td>\n",
       "      <td>Tênis Usthemp Slip-on Temático - Poodle Amarelo</td>\n",
       "      <td>0.804348</td>\n",
       "    </tr>\n",
       "    <tr>\n",
       "      <th>9</th>\n",
       "      <td>Tênis Usthemp Slip-on Temático - Labrador 2</td>\n",
       "      <td>Tênis Usthemp Slip-on Temático - Lulu Da Pome...</td>\n",
       "      <td>0.800000</td>\n",
       "    </tr>\n",
       "    <tr>\n",
       "      <th>10</th>\n",
       "      <td>Tênis Usthemp Slip-on Temático - Labrador 2</td>\n",
       "      <td>Tênis Usthemp Spice Temático -  Labrador Choc...</td>\n",
       "      <td>0.800000</td>\n",
       "    </tr>\n",
       "    <tr>\n",
       "      <th>11</th>\n",
       "      <td>Tênis Usthemp Slip-on Temático - Labrador 2</td>\n",
       "      <td>Tênis Usthemp Slip-on Temático - Gato Russian...</td>\n",
       "      <td>0.778947</td>\n",
       "    </tr>\n",
       "    <tr>\n",
       "      <th>12</th>\n",
       "      <td>Tênis Usthemp Slip-on Temático - Labrador 2</td>\n",
       "      <td>Tênis Usthemp Spice Temático - Dálmata 2</td>\n",
       "      <td>0.776471</td>\n",
       "    </tr>\n",
       "    <tr>\n",
       "      <th>13</th>\n",
       "      <td>Tênis Casual Feminino Moleca Tecido Tie Dye</td>\n",
       "      <td>Tênis Feminino Moleca Multicolor Tie Dye</td>\n",
       "      <td>0.771084</td>\n",
       "    </tr>\n",
       "    <tr>\n",
       "      <th>14</th>\n",
       "      <td>Tênis Usthemp Slip-on Temático - Labrador 2</td>\n",
       "      <td>Tênis Usthemp Pepper Temático - Vaca 2</td>\n",
       "      <td>0.771084</td>\n",
       "    </tr>\n",
       "  </tbody>\n",
       "</table>\n",
       "</div>"
      ],
      "text/plain": [
       "                                ITE_ITEM_TITLE_1  \\\n",
       "0   Tênis Usthemp Slip-on Temático - Labrador 2   \n",
       "1   Tênis Usthemp Slip-on Temático - Labrador 2   \n",
       "2   Tênis Usthemp Slip-on Temático - Labrador 2   \n",
       "3   Tênis Usthemp Slip-on Temático - Labrador 2   \n",
       "4   Tênis Usthemp Slip-on Temático - Labrador 2   \n",
       "5    Tenis Infantil Feminino Menina Criança Moça   \n",
       "6   Tênis Usthemp Slip-on Temático - Labrador 2   \n",
       "7   Tênis Usthemp Slip-on Temático - Labrador 2   \n",
       "8   Tênis Usthemp Slip-on Temático - Labrador 2   \n",
       "9   Tênis Usthemp Slip-on Temático - Labrador 2   \n",
       "10  Tênis Usthemp Slip-on Temático - Labrador 2   \n",
       "11  Tênis Usthemp Slip-on Temático - Labrador 2   \n",
       "12  Tênis Usthemp Slip-on Temático - Labrador 2   \n",
       "13   Tênis Casual Feminino Moleca Tecido Tie Dye   \n",
       "14  Tênis Usthemp Slip-on Temático - Labrador 2   \n",
       "\n",
       "                                     ITE_ITEM_TITLE_2  Score Similitud (0,1)  \n",
       "0              Tênis Usthemp Slip-on Temático - Leão               0.878049  \n",
       "1         Tênis Usthemp Volare Temático - Labrador 2               0.873563  \n",
       "2    Tênis Usthemp Slip-on Temático - Dark Unicorn 2               0.869565  \n",
       "3            Tênis Usthemp Slip-on Temático - Raposa               0.857143  \n",
       "4       Tênis Usthemp Slip-on Temático - Baby Dogs 4               0.853933  \n",
       "5        Tenis Infantil Feminino Meninas Love Coração               0.827586  \n",
       "6        Tênis Usthemp Slip-on Temático - Calopsitas               0.818182  \n",
       "7     Tênis Usthemp Half Temático - Lunna Labrador 3               0.813187  \n",
       "8    Tênis Usthemp Slip-on Temático - Poodle Amarelo               0.804348  \n",
       "9   Tênis Usthemp Slip-on Temático - Lulu Da Pome...               0.800000  \n",
       "10  Tênis Usthemp Spice Temático -  Labrador Choc...               0.800000  \n",
       "11  Tênis Usthemp Slip-on Temático - Gato Russian...               0.778947  \n",
       "12          Tênis Usthemp Spice Temático - Dálmata 2               0.776471  \n",
       "13           Tênis Feminino Moleca Multicolor Tie Dye               0.771084  \n",
       "14            Tênis Usthemp Pepper Temático - Vaca 2               0.771084  "
      ]
     },
     "execution_count": 8,
     "metadata": {},
     "output_type": "execute_result"
    }
   ],
   "source": [
    "# Esta celda tarda en correr un poco más de 9 minutos\n",
    "data_ordenada = similares(data)\n",
    "data_ordenada.head(15)"
   ]
  },
  {
   "cell_type": "code",
   "execution_count": 9,
   "id": "c378fbcc-5e72-4190-b62d-6570b093f383",
   "metadata": {},
   "outputs": [],
   "source": [
    "# data_ordenada.tail(15)"
   ]
  },
  {
   "cell_type": "code",
   "execution_count": null,
   "id": "c2b934fe-83ea-4919-95f2-b9b44cf70574",
   "metadata": {},
   "outputs": [],
   "source": []
  }
 ],
 "metadata": {
  "kernelspec": {
   "display_name": "Python 3 (ipykernel)",
   "language": "python",
   "name": "python3"
  },
  "language_info": {
   "codemirror_mode": {
    "name": "ipython",
    "version": 3
   },
   "file_extension": ".py",
   "mimetype": "text/x-python",
   "name": "python",
   "nbconvert_exporter": "python",
   "pygments_lexer": "ipython3",
   "version": "3.9.7"
  }
 },
 "nbformat": 4,
 "nbformat_minor": 5
}
